{
 "cells": [
  {
   "cell_type": "code",
   "execution_count": 1,
   "metadata": {
    "cell_id": "4e0d6cb8-5724-47b5-a566-ab2b648495f1",
    "output_cleared": false
   },
   "outputs": [],
   "source": [
    "import numpy as np \n",
    "import pandas as pd \n",
    "import matplotlib.pyplot as plt \n",
    "import matplotlib.colors as mcolors\n",
    "import random\n",
    "import math\n",
    "import time\n",
    "from sklearn.linear_model import LinearRegression\n",
    "from sklearn.model_selection import train_test_split\n",
    "from sklearn.preprocessing import PolynomialFeatures\n",
    "from sklearn.svm import SVR\n",
    "from sklearn.metrics import mean_squared_error, mean_absolute_error\n",
    "import datetime\n",
    "import operator \n",
    "plt.style.use('fivethirtyeight')\n",
    "%matplotlib inline "
   ]
  },
  {
   "cell_type": "code",
   "execution_count": 2,
   "metadata": {},
   "outputs": [],
   "source": [
    "from pytrends.request import TrendReq\n",
    "from pytrends import dailydata"
   ]
  },
  {
   "cell_type": "code",
   "execution_count": 3,
   "metadata": {},
   "outputs": [],
   "source": [
    "# def get_searches(key_word):\n",
    "#     df = dailydata.get_daily_data(key_word, 2020, 1, 2021, 12, geo = 'US')    \n",
    "#     return df\n",
    "# fever_df=get_searches('Fever')\n",
    "# cough_df=get_searches('Cough')\n",
    "# sanitizer_df=get_searches('Sanitizer')\n",
    "# mask_df=get_searches('mask')\n",
    "# fever_df.to_csv(r'./data/fever.csv')\n",
    "# cough_df.to_csv(r'./data/cough.csv')\n",
    "# sanitizer_df.to_csv(r'./data/sanitizer.csv')\n",
    "# mask_df.to_csv(r'./data/mask.csv')\n",
    "\n",
    "# Load cached data\n",
    "# fever_df = pd.read_csv(r'./data/fever.csv')\n",
    "# cough_df = pd.read_csv(r'./data/cough.csv')\n",
    "# sanitizer_df = pd.read_csv(r'./data/sanitizer.csv')\n",
    "# mask_df = pd.read_csv(r'./data/mask.csv')"
   ]
  },
  {
   "cell_type": "code",
   "execution_count": 4,
   "metadata": {
    "cell_id": "a8b893d1-bb62-4f9c-844c-facc4cbc7c43",
    "output_cleared": false
   },
   "outputs": [],
   "source": [
    "confirmed_cases = pd.read_csv('https://raw.githubusercontent.com/CSSEGISandData/COVID-19/master/csse_covid_19_data/csse_covid_19_time_series/time_series_covid19_confirmed_global.csv')"
   ]
  },
  {
   "cell_type": "code",
   "execution_count": 5,
   "metadata": {},
   "outputs": [],
   "source": [
    "dict_data = {}\n",
    "\n",
    "def load_data(df_str):\n",
    "    df = pd.read_csv(rf'./data/{df_str}.csv')\n",
    "    unscaled_col = [col for col in df.columns if 'unscaled' in col][0]\n",
    "    df.date = df.date.apply(lambda x: datetime.datetime.strptime(x, \"%Y-%m-%d\").strftime('%m/%d/%y'))\n",
    "    df = df[['date', unscaled_col]]\n",
    "    return df\n",
    "\n",
    "def prepare_data(data_dict, cases_data):\n",
    "    for df_str, df in data_dict.items():\n",
    "        dates_list = [dat for dat in confirmed_us.date.unique() if dat in df.date.unique()]\n",
    "        cases_data = cases_data.merge(df[df.date.isin(dates_list)], how='inner', on='date')\n",
    "    return cases_data\n",
    "\n",
    "list_str_data = ['fever', 'cough', 'sanitizer', 'mask']       \n",
    "\n",
    "for str_data in list_str_data:\n",
    "    dict_data[str_data] = load_data(str_data)"
   ]
  },
  {
   "cell_type": "code",
   "execution_count": 6,
   "metadata": {},
   "outputs": [],
   "source": [
    "dates_list = [d for d in dict_data['fever'].date.unique() if d in confirmed_cases.T.index]"
   ]
  },
  {
   "cell_type": "code",
   "execution_count": 7,
   "metadata": {},
   "outputs": [],
   "source": [
    "confirmed_us = confirmed_cases[confirmed_cases['Country/Region'] == 'US'][dates_list].T\n",
    "confirmed_us.columns = ['Cases']\n",
    "confirmed_us = confirmed_us.reset_index().rename(columns={'index': 'date'})\n",
    "dict_cases = {}\n",
    "for idx in range(1, len(confirmed_us))[::-1]:\n",
    "    dict_cases[idx] = confirmed_us.loc[idx,:].Cases - confirmed_us.loc[idx-1,:].Cases\n",
    "dict_cases[0] = 0\n",
    "confirmed_us['cases_daily'] = confirmed_us.index.map(dict_cases).to_list()\n",
    "confirmed_us = confirmed_us.drop(index=0).reset_index(drop=True)"
   ]
  },
  {
   "cell_type": "code",
   "execution_count": 8,
   "metadata": {},
   "outputs": [],
   "source": [
    "final_data = prepare_data(dict_data, confirmed_us.drop('Cases', axis=1))"
   ]
  },
  {
   "cell_type": "code",
   "execution_count": 9,
   "metadata": {},
   "outputs": [
    {
     "data": {
      "text/html": [
       "<div>\n",
       "<style scoped>\n",
       "    .dataframe tbody tr th:only-of-type {\n",
       "        vertical-align: middle;\n",
       "    }\n",
       "\n",
       "    .dataframe tbody tr th {\n",
       "        vertical-align: top;\n",
       "    }\n",
       "\n",
       "    .dataframe thead th {\n",
       "        text-align: right;\n",
       "    }\n",
       "</style>\n",
       "<table border=\"1\" class=\"dataframe\">\n",
       "  <thead>\n",
       "    <tr style=\"text-align: right;\">\n",
       "      <th></th>\n",
       "      <th>date</th>\n",
       "      <th>cases_daily</th>\n",
       "      <th>Fever_unscaled</th>\n",
       "      <th>Cough_unscaled</th>\n",
       "      <th>Sanitizer_unscaled</th>\n",
       "      <th>mask_unscaled</th>\n",
       "    </tr>\n",
       "  </thead>\n",
       "  <tbody>\n",
       "    <tr>\n",
       "      <th>0</th>\n",
       "      <td>10/11/20</td>\n",
       "      <td>46832</td>\n",
       "      <td>87</td>\n",
       "      <td>81</td>\n",
       "      <td>82</td>\n",
       "      <td>77</td>\n",
       "    </tr>\n",
       "    <tr>\n",
       "      <th>1</th>\n",
       "      <td>10/12/20</td>\n",
       "      <td>41732</td>\n",
       "      <td>81</td>\n",
       "      <td>91</td>\n",
       "      <td>95</td>\n",
       "      <td>66</td>\n",
       "    </tr>\n",
       "    <tr>\n",
       "      <th>2</th>\n",
       "      <td>10/13/20</td>\n",
       "      <td>51091</td>\n",
       "      <td>75</td>\n",
       "      <td>87</td>\n",
       "      <td>79</td>\n",
       "      <td>70</td>\n",
       "    </tr>\n",
       "    <tr>\n",
       "      <th>3</th>\n",
       "      <td>10/14/20</td>\n",
       "      <td>59302</td>\n",
       "      <td>90</td>\n",
       "      <td>91</td>\n",
       "      <td>88</td>\n",
       "      <td>69</td>\n",
       "    </tr>\n",
       "    <tr>\n",
       "      <th>4</th>\n",
       "      <td>10/15/20</td>\n",
       "      <td>65114</td>\n",
       "      <td>88</td>\n",
       "      <td>86</td>\n",
       "      <td>100</td>\n",
       "      <td>78</td>\n",
       "    </tr>\n",
       "  </tbody>\n",
       "</table>\n",
       "</div>"
      ],
      "text/plain": [
       "       date  cases_daily  Fever_unscaled  Cough_unscaled  Sanitizer_unscaled  \\\n",
       "0  10/11/20        46832              87              81                  82   \n",
       "1  10/12/20        41732              81              91                  95   \n",
       "2  10/13/20        51091              75              87                  79   \n",
       "3  10/14/20        59302              90              91                  88   \n",
       "4  10/15/20        65114              88              86                 100   \n",
       "\n",
       "   mask_unscaled  \n",
       "0             77  \n",
       "1             66  \n",
       "2             70  \n",
       "3             69  \n",
       "4             78  "
      ]
     },
     "execution_count": 9,
     "metadata": {},
     "output_type": "execute_result"
    }
   ],
   "source": [
    "final_data.head()"
   ]
  },
  {
   "cell_type": "code",
   "execution_count": 12,
   "metadata": {},
   "outputs": [
    {
     "data": {
      "text/html": [
       "<div>\n",
       "<style scoped>\n",
       "    .dataframe tbody tr th:only-of-type {\n",
       "        vertical-align: middle;\n",
       "    }\n",
       "\n",
       "    .dataframe tbody tr th {\n",
       "        vertical-align: top;\n",
       "    }\n",
       "\n",
       "    .dataframe thead th {\n",
       "        text-align: right;\n",
       "    }\n",
       "</style>\n",
       "<table border=\"1\" class=\"dataframe\">\n",
       "  <thead>\n",
       "    <tr style=\"text-align: right;\">\n",
       "      <th></th>\n",
       "      <th>cases_daily</th>\n",
       "      <th>Fever_unscaled</th>\n",
       "      <th>Cough_unscaled</th>\n",
       "      <th>Sanitizer_unscaled</th>\n",
       "      <th>mask_unscaled</th>\n",
       "    </tr>\n",
       "  </thead>\n",
       "  <tbody>\n",
       "    <tr>\n",
       "      <th>cases_daily</th>\n",
       "      <td>1.000000</td>\n",
       "      <td>-0.081721</td>\n",
       "      <td>-0.229427</td>\n",
       "      <td>0.055179</td>\n",
       "      <td>-0.086820</td>\n",
       "    </tr>\n",
       "    <tr>\n",
       "      <th>Fever_unscaled</th>\n",
       "      <td>-0.081721</td>\n",
       "      <td>1.000000</td>\n",
       "      <td>0.420358</td>\n",
       "      <td>0.191412</td>\n",
       "      <td>0.202403</td>\n",
       "    </tr>\n",
       "    <tr>\n",
       "      <th>Cough_unscaled</th>\n",
       "      <td>-0.229427</td>\n",
       "      <td>0.420358</td>\n",
       "      <td>1.000000</td>\n",
       "      <td>0.290676</td>\n",
       "      <td>0.234069</td>\n",
       "    </tr>\n",
       "    <tr>\n",
       "      <th>Sanitizer_unscaled</th>\n",
       "      <td>0.055179</td>\n",
       "      <td>0.191412</td>\n",
       "      <td>0.290676</td>\n",
       "      <td>1.000000</td>\n",
       "      <td>0.284239</td>\n",
       "    </tr>\n",
       "    <tr>\n",
       "      <th>mask_unscaled</th>\n",
       "      <td>-0.086820</td>\n",
       "      <td>0.202403</td>\n",
       "      <td>0.234069</td>\n",
       "      <td>0.284239</td>\n",
       "      <td>1.000000</td>\n",
       "    </tr>\n",
       "  </tbody>\n",
       "</table>\n",
       "</div>"
      ],
      "text/plain": [
       "                    cases_daily  Fever_unscaled  Cough_unscaled  \\\n",
       "cases_daily            1.000000       -0.081721       -0.229427   \n",
       "Fever_unscaled        -0.081721        1.000000        0.420358   \n",
       "Cough_unscaled        -0.229427        0.420358        1.000000   \n",
       "Sanitizer_unscaled     0.055179        0.191412        0.290676   \n",
       "mask_unscaled         -0.086820        0.202403        0.234069   \n",
       "\n",
       "                    Sanitizer_unscaled  mask_unscaled  \n",
       "cases_daily                   0.055179      -0.086820  \n",
       "Fever_unscaled                0.191412       0.202403  \n",
       "Cough_unscaled                0.290676       0.234069  \n",
       "Sanitizer_unscaled            1.000000       0.284239  \n",
       "mask_unscaled                 0.284239       1.000000  "
      ]
     },
     "execution_count": 12,
     "metadata": {},
     "output_type": "execute_result"
    }
   ],
   "source": [
    "final_data.set_index('date').corr()"
   ]
  },
  {
   "cell_type": "code",
   "execution_count": null,
   "metadata": {},
   "outputs": [],
   "source": []
  },
  {
   "cell_type": "code",
   "execution_count": null,
   "metadata": {},
   "outputs": [],
   "source": []
  },
  {
   "cell_type": "code",
   "execution_count": null,
   "metadata": {},
   "outputs": [],
   "source": []
  },
  {
   "cell_type": "code",
   "execution_count": 40,
   "metadata": {
    "cell_id": "ed18e374-b908-4ccf-8363-97cb3eee485b",
    "output_cleared": false
   },
   "outputs": [
    {
     "data": {
      "text/html": [
       "<div>\n",
       "<style scoped>\n",
       "    .dataframe tbody tr th:only-of-type {\n",
       "        vertical-align: middle;\n",
       "    }\n",
       "\n",
       "    .dataframe tbody tr th {\n",
       "        vertical-align: top;\n",
       "    }\n",
       "\n",
       "    .dataframe thead th {\n",
       "        text-align: right;\n",
       "    }\n",
       "</style>\n",
       "<table border=\"1\" class=\"dataframe\">\n",
       "  <thead>\n",
       "    <tr style=\"text-align: right;\">\n",
       "      <th></th>\n",
       "      <th>date</th>\n",
       "      <th>cases_daily</th>\n",
       "      <th>Fever_unscaled</th>\n",
       "      <th>Cough_unscaled</th>\n",
       "      <th>Sanitizer_unscaled</th>\n",
       "      <th>mask_unscaled</th>\n",
       "    </tr>\n",
       "  </thead>\n",
       "  <tbody>\n",
       "    <tr>\n",
       "      <th>0</th>\n",
       "      <td>10/11/20</td>\n",
       "      <td>46832</td>\n",
       "      <td>87</td>\n",
       "      <td>81</td>\n",
       "      <td>82</td>\n",
       "      <td>77</td>\n",
       "    </tr>\n",
       "    <tr>\n",
       "      <th>1</th>\n",
       "      <td>10/12/20</td>\n",
       "      <td>41732</td>\n",
       "      <td>81</td>\n",
       "      <td>91</td>\n",
       "      <td>95</td>\n",
       "      <td>66</td>\n",
       "    </tr>\n",
       "    <tr>\n",
       "      <th>2</th>\n",
       "      <td>10/13/20</td>\n",
       "      <td>51091</td>\n",
       "      <td>75</td>\n",
       "      <td>87</td>\n",
       "      <td>79</td>\n",
       "      <td>70</td>\n",
       "    </tr>\n",
       "    <tr>\n",
       "      <th>3</th>\n",
       "      <td>10/14/20</td>\n",
       "      <td>59302</td>\n",
       "      <td>90</td>\n",
       "      <td>91</td>\n",
       "      <td>88</td>\n",
       "      <td>69</td>\n",
       "    </tr>\n",
       "    <tr>\n",
       "      <th>4</th>\n",
       "      <td>10/15/20</td>\n",
       "      <td>65114</td>\n",
       "      <td>88</td>\n",
       "      <td>86</td>\n",
       "      <td>100</td>\n",
       "      <td>78</td>\n",
       "    </tr>\n",
       "  </tbody>\n",
       "</table>\n",
       "</div>"
      ],
      "text/plain": [
       "       date  cases_daily  Fever_unscaled  Cough_unscaled  Sanitizer_unscaled  \\\n",
       "0  10/11/20        46832              87              81                  82   \n",
       "1  10/12/20        41732              81              91                  95   \n",
       "2  10/13/20        51091              75              87                  79   \n",
       "3  10/14/20        59302              90              91                  88   \n",
       "4  10/15/20        65114              88              86                 100   \n",
       "\n",
       "   mask_unscaled  \n",
       "0             77  \n",
       "1             66  \n",
       "2             70  \n",
       "3             69  \n",
       "4             78  "
      ]
     },
     "execution_count": 40,
     "metadata": {},
     "output_type": "execute_result"
    }
   ],
   "source": [
    "final_data.head()"
   ]
  },
  {
   "cell_type": "code",
   "execution_count": 42,
   "metadata": {},
   "outputs": [],
   "source": [
    "dates = final_data.date"
   ]
  },
  {
   "cell_type": "code",
   "execution_count": 43,
   "metadata": {},
   "outputs": [],
   "source": [
    "total_cases = final_data.cases_daily"
   ]
  },
  {
   "cell_type": "code",
   "execution_count": 44,
   "metadata": {
    "cell_id": "bead5c67-8548-4263-af66-84183030d9d9",
    "output_cleared": false
   },
   "outputs": [],
   "source": [
    "days_since_1_22 = np.array([i for i in range(len(dates))]).reshape(-1, 1)\n",
    "total_cases = np.array(total_cases).reshape(-1, 1)"
   ]
  },
  {
   "cell_type": "code",
   "execution_count": 45,
   "metadata": {
    "cell_id": "270a5d3f-4a41-4366-bb86-0e5fd628883e",
    "output_cleared": false
   },
   "outputs": [],
   "source": [
    "days_in_future = 20\n",
    "future_forecast = np.array([i for i in range(len(dates)+days_in_future)]).reshape(-1, 1)\n",
    "adjusted_dates = future_forecast[:-20]"
   ]
  },
  {
   "cell_type": "code",
   "execution_count": 46,
   "metadata": {
    "cell_id": "12d3c0d3-0ca4-46f1-bb32-e33f15258795",
    "output_cleared": false
   },
   "outputs": [
    {
     "data": {
      "text/plain": [
       "array([[  0],\n",
       "       [  1],\n",
       "       [  2],\n",
       "       [  3],\n",
       "       [  4],\n",
       "       [  5],\n",
       "       [  6],\n",
       "       [  7],\n",
       "       [  8],\n",
       "       [  9],\n",
       "       [ 10],\n",
       "       [ 11],\n",
       "       [ 12],\n",
       "       [ 13],\n",
       "       [ 14],\n",
       "       [ 15],\n",
       "       [ 16],\n",
       "       [ 17],\n",
       "       [ 18],\n",
       "       [ 19],\n",
       "       [ 20],\n",
       "       [ 21],\n",
       "       [ 22],\n",
       "       [ 23],\n",
       "       [ 24],\n",
       "       [ 25],\n",
       "       [ 26],\n",
       "       [ 27],\n",
       "       [ 28],\n",
       "       [ 29],\n",
       "       [ 30],\n",
       "       [ 31],\n",
       "       [ 32],\n",
       "       [ 33],\n",
       "       [ 34],\n",
       "       [ 35],\n",
       "       [ 36],\n",
       "       [ 37],\n",
       "       [ 38],\n",
       "       [ 39],\n",
       "       [ 40],\n",
       "       [ 41],\n",
       "       [ 42],\n",
       "       [ 43],\n",
       "       [ 44],\n",
       "       [ 45],\n",
       "       [ 46],\n",
       "       [ 47],\n",
       "       [ 48],\n",
       "       [ 49],\n",
       "       [ 50],\n",
       "       [ 51],\n",
       "       [ 52],\n",
       "       [ 53],\n",
       "       [ 54],\n",
       "       [ 55],\n",
       "       [ 56],\n",
       "       [ 57],\n",
       "       [ 58],\n",
       "       [ 59],\n",
       "       [ 60],\n",
       "       [ 61],\n",
       "       [ 62],\n",
       "       [ 63],\n",
       "       [ 64],\n",
       "       [ 65],\n",
       "       [ 66],\n",
       "       [ 67],\n",
       "       [ 68],\n",
       "       [ 69],\n",
       "       [ 70],\n",
       "       [ 71],\n",
       "       [ 72],\n",
       "       [ 73],\n",
       "       [ 74],\n",
       "       [ 75],\n",
       "       [ 76],\n",
       "       [ 77],\n",
       "       [ 78],\n",
       "       [ 79],\n",
       "       [ 80],\n",
       "       [ 81],\n",
       "       [ 82],\n",
       "       [ 83],\n",
       "       [ 84],\n",
       "       [ 85],\n",
       "       [ 86],\n",
       "       [ 87],\n",
       "       [ 88],\n",
       "       [ 89],\n",
       "       [ 90],\n",
       "       [ 91],\n",
       "       [ 92],\n",
       "       [ 93],\n",
       "       [ 94],\n",
       "       [ 95],\n",
       "       [ 96],\n",
       "       [ 97],\n",
       "       [ 98],\n",
       "       [ 99],\n",
       "       [100],\n",
       "       [101],\n",
       "       [102],\n",
       "       [103],\n",
       "       [104],\n",
       "       [105],\n",
       "       [106],\n",
       "       [107],\n",
       "       [108],\n",
       "       [109],\n",
       "       [110],\n",
       "       [111],\n",
       "       [112],\n",
       "       [113],\n",
       "       [114],\n",
       "       [115],\n",
       "       [116],\n",
       "       [117],\n",
       "       [118],\n",
       "       [119],\n",
       "       [120],\n",
       "       [121],\n",
       "       [122],\n",
       "       [123],\n",
       "       [124],\n",
       "       [125],\n",
       "       [126],\n",
       "       [127],\n",
       "       [128],\n",
       "       [129],\n",
       "       [130],\n",
       "       [131],\n",
       "       [132],\n",
       "       [133],\n",
       "       [134]])"
      ]
     },
     "execution_count": 46,
     "metadata": {},
     "output_type": "execute_result"
    }
   ],
   "source": [
    "future_forecast"
   ]
  },
  {
   "cell_type": "code",
   "execution_count": 20,
   "metadata": {},
   "outputs": [
    {
     "data": {
      "text/plain": [
       "0      10/11/20\n",
       "1      10/12/20\n",
       "2      10/13/20\n",
       "3      10/14/20\n",
       "4      10/15/20\n",
       "         ...   \n",
       "110    12/13/21\n",
       "111    12/14/21\n",
       "112    12/15/21\n",
       "113    12/16/21\n",
       "114    12/17/21\n",
       "Name: date, Length: 115, dtype: object"
      ]
     },
     "execution_count": 20,
     "metadata": {},
     "output_type": "execute_result"
    }
   ],
   "source": [
    "dates"
   ]
  },
  {
   "cell_type": "code",
   "execution_count": 21,
   "metadata": {
    "cell_id": "4bec0a3c-5178-40ff-a16c-e6e3bd8911f8",
    "output_cleared": false
   },
   "outputs": [],
   "source": [
    "start = '11/10/2020'\n",
    "start_date = datetime.datetime.strptime(start, '%m/%d/%Y')\n",
    "future_forecast_dates = []\n",
    "for i in range(len(future_forecast)):\n",
    "    future_forecast_dates.append((start_date + datetime.timedelta(days=i)).strftime('%m/%d/%Y'))"
   ]
  },
  {
   "cell_type": "code",
   "execution_count": 22,
   "metadata": {
    "cell_id": "ce6b25a8-c130-4f6f-9a0b-9d5e7f465c44",
    "output_cleared": false
   },
   "outputs": [],
   "source": [
    "X_train_confirmed, X_test_confirmed, y_train_confirmed, y_test_confirmed = train_test_split(days_since_1_22, total_cases, test_size=0.25, shuffle=False) "
   ]
  },
  {
   "cell_type": "code",
   "execution_count": 23,
   "metadata": {
    "cell_id": "c9fec318-10c7-4910-8b54-04fff662e51e",
    "output_cleared": false
   },
   "outputs": [],
   "source": [
    "# transform data for polynomial regression\n",
    "poly = PolynomialFeatures(degree=3)\n",
    "poly_X_train_confirmed = poly.fit_transform(X_train_confirmed)\n",
    "poly_X_test_confirmed = poly.fit_transform(X_test_confirmed)\n",
    "poly_future_forecast = poly.fit_transform(future_forecast)"
   ]
  },
  {
   "cell_type": "code",
   "execution_count": 24,
   "metadata": {
    "cell_id": "cead5e2a-6f56-4d07-97e0-2c976e415df1",
    "output_cleared": false
   },
   "outputs": [
    {
     "name": "stdout",
     "output_type": "stream",
     "text": [
      "MAE: 3599978.9290956855\n",
      "MSE: 17848030162151.234\n"
     ]
    },
    {
     "name": "stderr",
     "output_type": "stream",
     "text": [
      "C:\\Users\\kolli\\anaconda3\\envs\\eas503\\lib\\site-packages\\sklearn\\linear_model\\_base.py:141: FutureWarning: 'normalize' was deprecated in version 1.0 and will be removed in 1.2.\n",
      "If you wish to scale the data, use Pipeline with a StandardScaler in a preprocessing stage. To reproduce the previous behavior:\n",
      "\n",
      "from sklearn.pipeline import make_pipeline\n",
      "\n",
      "model = make_pipeline(StandardScaler(with_mean=False), LinearRegression())\n",
      "\n",
      "If you wish to pass a sample_weight parameter, you need to pass it as a fit parameter to each step of the pipeline as follows:\n",
      "\n",
      "kwargs = {s[0] + '__sample_weight': sample_weight for s in model.steps}\n",
      "model.fit(X, y, **kwargs)\n",
      "\n",
      "\n",
      "  warnings.warn(\n"
     ]
    }
   ],
   "source": [
    "# polynomial regression\n",
    "linear_model = LinearRegression(normalize=True, fit_intercept=False)\n",
    "linear_model.fit(poly_X_train_confirmed, y_train_confirmed)\n",
    "test_linear_pred = linear_model.predict(poly_X_test_confirmed)\n",
    "linear_pred = linear_model.predict(poly_future_forecast)\n",
    "print('MAE:', mean_absolute_error(test_linear_pred, y_test_confirmed))\n",
    "print('MSE:',mean_squared_error(test_linear_pred, y_test_confirmed))"
   ]
  },
  {
   "cell_type": "code",
   "execution_count": 25,
   "metadata": {
    "cell_id": "09d90dc4-62bc-4281-97ab-c6a342bfe7a1",
    "output_cleared": false
   },
   "outputs": [
    {
     "data": {
      "text/plain": [
       "<matplotlib.legend.Legend at 0x2c6be72af10>"
      ]
     },
     "execution_count": 25,
     "metadata": {},
     "output_type": "execute_result"
    },
    {
     "data": {
      "image/png": "[encoded data removed]",
      "text/plain": [
       "<Figure size 432x288 with 1 Axes>"
      ]
     },
     "metadata": {
      "needs_background": "light"
     },
     "output_type": "display_data"
    }
   ],
   "source": [
    "plt.plot(y_test_confirmed)\n",
    "plt.plot(test_linear_pred)\n",
    "plt.legend(['Test Data', 'Polynomial Regression Predictions'])"
   ]
  },
  {
   "cell_type": "code",
   "execution_count": 26,
   "metadata": {
    "cell_id": "ccabbbf6-182b-4de8-bccc-3d30c50c7af3",
    "output_cleared": false
   },
   "outputs": [
    {
     "name": "stderr",
     "output_type": "stream",
     "text": [
      "C:\\Users\\kolli\\anaconda3\\envs\\eas503\\lib\\site-packages\\sklearn\\utils\\validation.py:985: DataConversionWarning: A column-vector y was passed when a 1d array was expected. Please change the shape of y to (n_samples, ), for example using ravel().\n",
      "  y = column_or_1d(y, warn=True)\n"
     ]
    }
   ],
   "source": [
    "# svm_confirmed = svm_search.best_estimator_\n",
    "svm_confirmed = SVR(shrinking=True, kernel='poly',gamma=0.01, epsilon=1,degree=5, C=0.1)\n",
    "svm_confirmed.fit(X_train_confirmed, y_train_confirmed)\n",
    "svm_pred = svm_confirmed.predict(future_forecast)"
   ]
  },
  {
   "cell_type": "code",
   "execution_count": 27,
   "metadata": {
    "cell_id": "6e37ea0e-31d4-4804-b005-66ed7f0fc628",
    "output_cleared": false
   },
   "outputs": [
    {
     "name": "stdout",
     "output_type": "stream",
     "text": [
      "MAE: 309210.4914351731\n",
      "MSE: 178046020739.13132\n"
     ]
    },
    {
     "data": {
      "image/png": "[encoded data removed]",
      "text/plain": [
       "<Figure size 432x288 with 1 Axes>"
      ]
     },
     "metadata": {
      "needs_background": "light"
     },
     "output_type": "display_data"
    }
   ],
   "source": [
    "svm_test_pred = svm_confirmed.predict(X_test_confirmed)\n",
    "plt.plot(y_test_confirmed)\n",
    "plt.plot(svm_test_pred)\n",
    "plt.legend(['Test Data', 'SVM Predictions'])\n",
    "print('MAE:', mean_absolute_error(svm_test_pred, y_test_confirmed))\n",
    "print('MSE:',mean_squared_error(svm_test_pred, y_test_confirmed))"
   ]
  },
  {
   "cell_type": "code",
   "execution_count": 32,
   "metadata": {
    "cell_id": "7987ea3f-9f18-4ff5-af02-cb30864b19ba",
    "output_cleared": false
   },
   "outputs": [
    {
     "data": {
      "image/png": "[encoded data removed]",
      "text/plain": [
       "<Figure size 1152x648 with 1 Axes>"
      ]
     },
     "metadata": {
      "needs_background": "light"
     },
     "output_type": "display_data"
    }
   ],
   "source": [
    "adjusted_dates = adjusted_dates.reshape(1, -1)[0]\n",
    "plt.figure(figsize=(16, 9))\n",
    "plt.plot(adjusted_dates, total_cases)\n",
    "plt.title('Number of Increawse in Coronavirus Cases Over Time', size=30)\n",
    "plt.xlabel('Days Since 1/22/2020', size=30)\n",
    "plt.ylabel('Number of Cases', size=30)\n",
    "plt.xticks(size=20)\n",
    "plt.yticks(size=20)\n",
    "plt.show()"
   ]
  },
  {
   "cell_type": "code",
   "execution_count": 34,
   "metadata": {
    "cell_id": "1606e7d5-606b-4185-b2d3-05f435bb17d9",
    "output_cleared": false
   },
   "outputs": [
    {
     "data": {
      "text/html": [
       "<div>\n",
       "<style scoped>\n",
       "    .dataframe tbody tr th:only-of-type {\n",
       "        vertical-align: middle;\n",
       "    }\n",
       "\n",
       "    .dataframe tbody tr th {\n",
       "        vertical-align: top;\n",
       "    }\n",
       "\n",
       "    .dataframe thead th {\n",
       "        text-align: right;\n",
       "    }\n",
       "</style>\n",
       "<table border=\"1\" class=\"dataframe\">\n",
       "  <thead>\n",
       "    <tr style=\"text-align: right;\">\n",
       "      <th></th>\n",
       "      <th>Date</th>\n",
       "      <th>Predicted number of Confirmed Cases Worldwide</th>\n",
       "    </tr>\n",
       "  </thead>\n",
       "  <tbody>\n",
       "    <tr>\n",
       "      <th>0</th>\n",
       "      <td>03/05/2021</td>\n",
       "      <td>-8098876.0</td>\n",
       "    </tr>\n",
       "    <tr>\n",
       "      <th>1</th>\n",
       "      <td>03/06/2021</td>\n",
       "      <td>-8522198.0</td>\n",
       "    </tr>\n",
       "    <tr>\n",
       "      <th>2</th>\n",
       "      <td>03/07/2021</td>\n",
       "      <td>-8957677.0</td>\n",
       "    </tr>\n",
       "    <tr>\n",
       "      <th>3</th>\n",
       "      <td>03/08/2021</td>\n",
       "      <td>-9405469.0</td>\n",
       "    </tr>\n",
       "    <tr>\n",
       "      <th>4</th>\n",
       "      <td>03/09/2021</td>\n",
       "      <td>-9865733.0</td>\n",
       "    </tr>\n",
       "    <tr>\n",
       "      <th>5</th>\n",
       "      <td>03/10/2021</td>\n",
       "      <td>-10338625.0</td>\n",
       "    </tr>\n",
       "    <tr>\n",
       "      <th>6</th>\n",
       "      <td>03/11/2021</td>\n",
       "      <td>-10824304.0</td>\n",
       "    </tr>\n",
       "    <tr>\n",
       "      <th>7</th>\n",
       "      <td>03/12/2021</td>\n",
       "      <td>-11322927.0</td>\n",
       "    </tr>\n",
       "    <tr>\n",
       "      <th>8</th>\n",
       "      <td>03/13/2021</td>\n",
       "      <td>-11834651.0</td>\n",
       "    </tr>\n",
       "    <tr>\n",
       "      <th>9</th>\n",
       "      <td>03/14/2021</td>\n",
       "      <td>-12359634.0</td>\n",
       "    </tr>\n",
       "    <tr>\n",
       "      <th>10</th>\n",
       "      <td>03/15/2021</td>\n",
       "      <td>-12898033.0</td>\n",
       "    </tr>\n",
       "    <tr>\n",
       "      <th>11</th>\n",
       "      <td>03/16/2021</td>\n",
       "      <td>-13450006.0</td>\n",
       "    </tr>\n",
       "    <tr>\n",
       "      <th>12</th>\n",
       "      <td>03/17/2021</td>\n",
       "      <td>-14015710.0</td>\n",
       "    </tr>\n",
       "    <tr>\n",
       "      <th>13</th>\n",
       "      <td>03/18/2021</td>\n",
       "      <td>-14595304.0</td>\n",
       "    </tr>\n",
       "    <tr>\n",
       "      <th>14</th>\n",
       "      <td>03/19/2021</td>\n",
       "      <td>-15188943.0</td>\n",
       "    </tr>\n",
       "    <tr>\n",
       "      <th>15</th>\n",
       "      <td>03/20/2021</td>\n",
       "      <td>-15796786.0</td>\n",
       "    </tr>\n",
       "    <tr>\n",
       "      <th>16</th>\n",
       "      <td>03/21/2021</td>\n",
       "      <td>-16418991.0</td>\n",
       "    </tr>\n",
       "    <tr>\n",
       "      <th>17</th>\n",
       "      <td>03/22/2021</td>\n",
       "      <td>-17055715.0</td>\n",
       "    </tr>\n",
       "    <tr>\n",
       "      <th>18</th>\n",
       "      <td>03/23/2021</td>\n",
       "      <td>-17707114.0</td>\n",
       "    </tr>\n",
       "    <tr>\n",
       "      <th>19</th>\n",
       "      <td>03/24/2021</td>\n",
       "      <td>-18373348.0</td>\n",
       "    </tr>\n",
       "  </tbody>\n",
       "</table>\n",
       "</div>"
      ],
      "text/plain": [
       "          Date  Predicted number of Confirmed Cases Worldwide\n",
       "0   03/05/2021                                     -8098876.0\n",
       "1   03/06/2021                                     -8522198.0\n",
       "2   03/07/2021                                     -8957677.0\n",
       "3   03/08/2021                                     -9405469.0\n",
       "4   03/09/2021                                     -9865733.0\n",
       "5   03/10/2021                                    -10338625.0\n",
       "6   03/11/2021                                    -10824304.0\n",
       "7   03/12/2021                                    -11322927.0\n",
       "8   03/13/2021                                    -11834651.0\n",
       "9   03/14/2021                                    -12359634.0\n",
       "10  03/15/2021                                    -12898033.0\n",
       "11  03/16/2021                                    -13450006.0\n",
       "12  03/17/2021                                    -14015710.0\n",
       "13  03/18/2021                                    -14595304.0\n",
       "14  03/19/2021                                    -15188943.0\n",
       "15  03/20/2021                                    -15796786.0\n",
       "16  03/21/2021                                    -16418991.0\n",
       "17  03/22/2021                                    -17055715.0\n",
       "18  03/23/2021                                    -17707114.0\n",
       "19  03/24/2021                                    -18373348.0"
      ]
     },
     "execution_count": 34,
     "metadata": {},
     "output_type": "execute_result"
    }
   ],
   "source": [
    "# Future predictions using polynomial regression\n",
    "linear_pred = linear_pred.reshape(1,-1)[0]\n",
    "poly_df = pd.DataFrame({'Date': future_forecast_dates[-20:], 'Predicted number of Confirmed Cases Worldwide': np.round(linear_pred[-20:])})\n",
    "poly_df"
   ]
  },
  {
   "cell_type": "code",
   "execution_count": 35,
   "metadata": {
    "cell_id": "a33a84ea-9bdc-4209-9dd0-130b38e4d107",
    "output_cleared": false
   },
   "outputs": [
    {
     "data": {
      "text/html": [
       "<div>\n",
       "<style scoped>\n",
       "    .dataframe tbody tr th:only-of-type {\n",
       "        vertical-align: middle;\n",
       "    }\n",
       "\n",
       "    .dataframe tbody tr th {\n",
       "        vertical-align: top;\n",
       "    }\n",
       "\n",
       "    .dataframe thead th {\n",
       "        text-align: right;\n",
       "    }\n",
       "</style>\n",
       "<table border=\"1\" class=\"dataframe\">\n",
       "  <thead>\n",
       "    <tr style=\"text-align: right;\">\n",
       "      <th></th>\n",
       "      <th>Date</th>\n",
       "      <th>SVM Predicted # of Confirmed Cases Worldwide</th>\n",
       "    </tr>\n",
       "  </thead>\n",
       "  <tbody>\n",
       "    <tr>\n",
       "      <th>0</th>\n",
       "      <td>03/05/2021</td>\n",
       "      <td>-417558.0</td>\n",
       "    </tr>\n",
       "    <tr>\n",
       "      <th>1</th>\n",
       "      <td>03/06/2021</td>\n",
       "      <td>-443125.0</td>\n",
       "    </tr>\n",
       "    <tr>\n",
       "      <th>2</th>\n",
       "      <td>03/07/2021</td>\n",
       "      <td>-469590.0</td>\n",
       "    </tr>\n",
       "    <tr>\n",
       "      <th>3</th>\n",
       "      <td>03/08/2021</td>\n",
       "      <td>-496975.0</td>\n",
       "    </tr>\n",
       "    <tr>\n",
       "      <th>4</th>\n",
       "      <td>03/09/2021</td>\n",
       "      <td>-525304.0</td>\n",
       "    </tr>\n",
       "    <tr>\n",
       "      <th>5</th>\n",
       "      <td>03/10/2021</td>\n",
       "      <td>-554602.0</td>\n",
       "    </tr>\n",
       "    <tr>\n",
       "      <th>6</th>\n",
       "      <td>03/11/2021</td>\n",
       "      <td>-584892.0</td>\n",
       "    </tr>\n",
       "    <tr>\n",
       "      <th>7</th>\n",
       "      <td>03/12/2021</td>\n",
       "      <td>-616201.0</td>\n",
       "    </tr>\n",
       "    <tr>\n",
       "      <th>8</th>\n",
       "      <td>03/13/2021</td>\n",
       "      <td>-648553.0</td>\n",
       "    </tr>\n",
       "    <tr>\n",
       "      <th>9</th>\n",
       "      <td>03/14/2021</td>\n",
       "      <td>-681975.0</td>\n",
       "    </tr>\n",
       "    <tr>\n",
       "      <th>10</th>\n",
       "      <td>03/15/2021</td>\n",
       "      <td>-716492.0</td>\n",
       "    </tr>\n",
       "    <tr>\n",
       "      <th>11</th>\n",
       "      <td>03/16/2021</td>\n",
       "      <td>-752132.0</td>\n",
       "    </tr>\n",
       "    <tr>\n",
       "      <th>12</th>\n",
       "      <td>03/17/2021</td>\n",
       "      <td>-788921.0</td>\n",
       "    </tr>\n",
       "    <tr>\n",
       "      <th>13</th>\n",
       "      <td>03/18/2021</td>\n",
       "      <td>-826888.0</td>\n",
       "    </tr>\n",
       "    <tr>\n",
       "      <th>14</th>\n",
       "      <td>03/19/2021</td>\n",
       "      <td>-866059.0</td>\n",
       "    </tr>\n",
       "    <tr>\n",
       "      <th>15</th>\n",
       "      <td>03/20/2021</td>\n",
       "      <td>-906464.0</td>\n",
       "    </tr>\n",
       "    <tr>\n",
       "      <th>16</th>\n",
       "      <td>03/21/2021</td>\n",
       "      <td>-948132.0</td>\n",
       "    </tr>\n",
       "    <tr>\n",
       "      <th>17</th>\n",
       "      <td>03/22/2021</td>\n",
       "      <td>-991092.0</td>\n",
       "    </tr>\n",
       "    <tr>\n",
       "      <th>18</th>\n",
       "      <td>03/23/2021</td>\n",
       "      <td>-1035373.0</td>\n",
       "    </tr>\n",
       "    <tr>\n",
       "      <th>19</th>\n",
       "      <td>03/24/2021</td>\n",
       "      <td>-1081007.0</td>\n",
       "    </tr>\n",
       "  </tbody>\n",
       "</table>\n",
       "</div>"
      ],
      "text/plain": [
       "          Date  SVM Predicted # of Confirmed Cases Worldwide\n",
       "0   03/05/2021                                     -417558.0\n",
       "1   03/06/2021                                     -443125.0\n",
       "2   03/07/2021                                     -469590.0\n",
       "3   03/08/2021                                     -496975.0\n",
       "4   03/09/2021                                     -525304.0\n",
       "5   03/10/2021                                     -554602.0\n",
       "6   03/11/2021                                     -584892.0\n",
       "7   03/12/2021                                     -616201.0\n",
       "8   03/13/2021                                     -648553.0\n",
       "9   03/14/2021                                     -681975.0\n",
       "10  03/15/2021                                     -716492.0\n",
       "11  03/16/2021                                     -752132.0\n",
       "12  03/17/2021                                     -788921.0\n",
       "13  03/18/2021                                     -826888.0\n",
       "14  03/19/2021                                     -866059.0\n",
       "15  03/20/2021                                     -906464.0\n",
       "16  03/21/2021                                     -948132.0\n",
       "17  03/22/2021                                     -991092.0\n",
       "18  03/23/2021                                    -1035373.0\n",
       "19  03/24/2021                                    -1081007.0"
      ]
     },
     "execution_count": 35,
     "metadata": {},
     "output_type": "execute_result"
    }
   ],
   "source": [
    "# Future predictions using SVM \n",
    "svm_df = pd.DataFrame({'Date': future_forecast_dates[-20:], 'SVM Predicted # of Confirmed Cases Worldwide': np.round(svm_pred[-20:])})\n",
    "svm_df"
   ]
  }
 ],
 "metadata": {
  "deepnote_execution_queue": [],
  "deepnote_notebook_id": "5fb19621-8cc6-43a2-a986-807ef9598547",
  "kernelspec": {
   "display_name": "Python 3 (ipykernel)",
   "language": "python",
   "name": "python3"
  },
  "language_info": {
   "codemirror_mode": {
    "name": "ipython",
    "version": 3
   },
   "file_extension": ".py",
   "mimetype": "text/x-python",
   "name": "python",
   "nbconvert_exporter": "python",
   "pygments_lexer": "ipython3",
   "version": "3.9.7"
  }
 },
 "nbformat": 4,
 "nbformat_minor": 2
}
